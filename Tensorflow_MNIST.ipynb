{
  "nbformat": 4,
  "nbformat_minor": 0,
  "metadata": {
    "jupytext": {
      "cell_metadata_filter": "-all",
      "main_language": "python",
      "notebook_metadata_filter": "-all"
    },
    "kernelspec": {
      "display_name": "Python 3",
      "language": "python",
      "name": "python3"
    },
    "language_info": {
      "codemirror_mode": {
        "name": "ipython",
        "version": 3
      },
      "file_extension": ".py",
      "mimetype": "text/x-python",
      "name": "python",
      "nbconvert_exporter": "python",
      "pygments_lexer": "ipython3",
      "version": "3.7.6"
    },
    "colab": {
      "name": "Tensorflow.MNIST.ipynb",
      "provenance": [],
      "include_colab_link": true
    }
  },
  "cells": [
    {
      "cell_type": "markdown",
      "metadata": {
        "id": "view-in-github",
        "colab_type": "text"
      },
      "source": [
        "<a href=\"https://colab.research.google.com/github/anavianascientist/Deep_Learning/blob/master/Tensorflow_MNIST.ipynb\" target=\"_parent\"><img src=\"https://colab.research.google.com/assets/colab-badge.svg\" alt=\"Open In Colab\"/></a>"
      ]
    },
    {
      "cell_type": "markdown",
      "metadata": {
        "id": "_Z4P4y_2T9kb",
        "colab_type": "text"
      },
      "source": [
        "\n",
        "# Deep Learning"
      ]
    },
    {
      "cell_type": "code",
      "metadata": {
        "id": "qgso74RaT9kp",
        "colab_type": "code",
        "colab": {}
      },
      "source": [
        "# Importação das bibliotecas\n",
        "import matplotlib.pyplot as plt\n",
        "from keras.models import Sequential\n",
        "from keras.layers import Dense, Dropout\n",
        "from keras.utils import np_utils\n",
        "import numpy as np\n",
        "from sklearn.metrics import confusion_matrix\n",
        "from keras.datasets import mnist\n",
        "#pip install tensorflow (executar no Anaconda Prompt)"
      ],
      "execution_count": 1,
      "outputs": []
    },
    {
      "cell_type": "code",
      "metadata": {
        "id": "R5vFeSHjT9ky",
        "colab_type": "code",
        "colab": {
          "base_uri": "https://localhost:8080/",
          "height": 332
        },
        "outputId": "97fe5f86-4dbe-436d-c0e1-6541b9c6f5cf"
      },
      "source": [
        "# Obtenção dos dados e divisão automática entre treinamento e teste\n",
        "(X_treinamento, y_treinamento), (X_teste, y_teste) = mnist.load_data()\n",
        "# Visualização de imagens específicas\n",
        "plt.imshow(X_treinamento[21], cmap = 'gray')\n",
        "plt.title(y_treinamento[21])"
      ],
      "execution_count": 2,
      "outputs": [
        {
          "output_type": "stream",
          "text": [
            "Downloading data from https://storage.googleapis.com/tensorflow/tf-keras-datasets/mnist.npz\n",
            "11493376/11490434 [==============================] - 1s 0us/step\n"
          ],
          "name": "stdout"
        },
        {
          "output_type": "execute_result",
          "data": {
            "text/plain": [
              "Text(0.5, 1.0, '0')"
            ]
          },
          "metadata": {
            "tags": []
          },
          "execution_count": 2
        },
        {
          "output_type": "display_data",
          "data": {
            "image/png": "[encoded data removed]",
            "text/plain": [
              "<Figure size 432x288 with 1 Axes>"
            ]
          },
          "metadata": {
            "tags": [],
            "needs_background": "light"
          }
        }
      ]
    },
    {
      "cell_type": "code",
      "metadata": {
        "id": "TICnk1UQT9k6",
        "colab_type": "code",
        "colab": {
          "base_uri": "https://localhost:8080/",
          "height": 1000
        },
        "outputId": "4fcdcf2a-4ff7-4664-c4b1-67ae10691adb"
      },
      "source": [
        "# Mudança de dimensão, originalmente está em 28x28 e precisamos 784\n",
        "X_treinamento = X_treinamento.reshape((len(X_treinamento), np.prod(X_treinamento.shape[1:])))\n",
        "X_teste = X_teste.reshape((len(X_teste), np.prod(X_teste.shape[1:])))\n",
        "X_teste[0]"
      ],
      "execution_count": 3,
      "outputs": [
        {
          "output_type": "execute_result",
          "data": {
            "text/plain": [
              "array([  0,   0,   0,   0,   0,   0,   0,   0,   0,   0,   0,   0,   0,\n",
              "         0,   0,   0,   0,   0,   0,   0,   0,   0,   0,   0,   0,   0,\n",
              "         0,   0,   0,   0,   0,   0,   0,   0,   0,   0,   0,   0,   0,\n",
              "         0,   0,   0,   0,   0,   0,   0,   0,   0,   0,   0,   0,   0,\n",
              "         0,   0,   0,   0,   0,   0,   0,   0,   0,   0,   0,   0,   0,\n",
              "         0,   0,   0,   0,   0,   0,   0,   0,   0,   0,   0,   0,   0,\n",
              "         0,   0,   0,   0,   0,   0,   0,   0,   0,   0,   0,   0,   0,\n",
              "         0,   0,   0,   0,   0,   0,   0,   0,   0,   0,   0,   0,   0,\n",
              "         0,   0,   0,   0,   0,   0,   0,   0,   0,   0,   0,   0,   0,\n",
              "         0,   0,   0,   0,   0,   0,   0,   0,   0,   0,   0,   0,   0,\n",
              "         0,   0,   0,   0,   0,   0,   0,   0,   0,   0,   0,   0,   0,\n",
              "         0,   0,   0,   0,   0,   0,   0,   0,   0,   0,   0,   0,   0,\n",
              "         0,   0,   0,   0,   0,   0,   0,   0,   0,   0,   0,   0,   0,\n",
              "         0,   0,   0,   0,   0,   0,   0,   0,   0,   0,   0,   0,   0,\n",
              "         0,   0,   0,   0,   0,   0,   0,   0,   0,   0,   0,   0,   0,\n",
              "         0,   0,   0,   0,   0,   0,   0,  84, 185, 159, 151,  60,  36,\n",
              "         0,   0,   0,   0,   0,   0,   0,   0,   0,   0,   0,   0,   0,\n",
              "         0,   0,   0,   0,   0,   0,   0,   0,   0, 222, 254, 254, 254,\n",
              "       254, 241, 198, 198, 198, 198, 198, 198, 198, 198, 170,  52,   0,\n",
              "         0,   0,   0,   0,   0,   0,   0,   0,   0,   0,   0,  67, 114,\n",
              "        72, 114, 163, 227, 254, 225, 254, 254, 254, 250, 229, 254, 254,\n",
              "       140,   0,   0,   0,   0,   0,   0,   0,   0,   0,   0,   0,   0,\n",
              "         0,   0,   0,   0,   0,  17,  66,  14,  67,  67,  67,  59,  21,\n",
              "       236, 254, 106,   0,   0,   0,   0,   0,   0,   0,   0,   0,   0,\n",
              "         0,   0,   0,   0,   0,   0,   0,   0,   0,   0,   0,   0,   0,\n",
              "         0,  83, 253, 209,  18,   0,   0,   0,   0,   0,   0,   0,   0,\n",
              "         0,   0,   0,   0,   0,   0,   0,   0,   0,   0,   0,   0,   0,\n",
              "         0,   0,  22, 233, 255,  83,   0,   0,   0,   0,   0,   0,   0,\n",
              "         0,   0,   0,   0,   0,   0,   0,   0,   0,   0,   0,   0,   0,\n",
              "         0,   0,   0,   0, 129, 254, 238,  44,   0,   0,   0,   0,   0,\n",
              "         0,   0,   0,   0,   0,   0,   0,   0,   0,   0,   0,   0,   0,\n",
              "         0,   0,   0,   0,   0,  59, 249, 254,  62,   0,   0,   0,   0,\n",
              "         0,   0,   0,   0,   0,   0,   0,   0,   0,   0,   0,   0,   0,\n",
              "         0,   0,   0,   0,   0,   0,   0, 133, 254, 187,   5,   0,   0,\n",
              "         0,   0,   0,   0,   0,   0,   0,   0,   0,   0,   0,   0,   0,\n",
              "         0,   0,   0,   0,   0,   0,   0,   0,   9, 205, 248,  58,   0,\n",
              "         0,   0,   0,   0,   0,   0,   0,   0,   0,   0,   0,   0,   0,\n",
              "         0,   0,   0,   0,   0,   0,   0,   0,   0,   0, 126, 254, 182,\n",
              "         0,   0,   0,   0,   0,   0,   0,   0,   0,   0,   0,   0,   0,\n",
              "         0,   0,   0,   0,   0,   0,   0,   0,   0,   0,   0,  75, 251,\n",
              "       240,  57,   0,   0,   0,   0,   0,   0,   0,   0,   0,   0,   0,\n",
              "         0,   0,   0,   0,   0,   0,   0,   0,   0,   0,   0,   0,  19,\n",
              "       221, 254, 166,   0,   0,   0,   0,   0,   0,   0,   0,   0,   0,\n",
              "         0,   0,   0,   0,   0,   0,   0,   0,   0,   0,   0,   0,   0,\n",
              "         3, 203, 254, 219,  35,   0,   0,   0,   0,   0,   0,   0,   0,\n",
              "         0,   0,   0,   0,   0,   0,   0,   0,   0,   0,   0,   0,   0,\n",
              "         0,   0,  38, 254, 254,  77,   0,   0,   0,   0,   0,   0,   0,\n",
              "         0,   0,   0,   0,   0,   0,   0,   0,   0,   0,   0,   0,   0,\n",
              "         0,   0,   0,  31, 224, 254, 115,   1,   0,   0,   0,   0,   0,\n",
              "         0,   0,   0,   0,   0,   0,   0,   0,   0,   0,   0,   0,   0,\n",
              "         0,   0,   0,   0,   0, 133, 254, 254,  52,   0,   0,   0,   0,\n",
              "         0,   0,   0,   0,   0,   0,   0,   0,   0,   0,   0,   0,   0,\n",
              "         0,   0,   0,   0,   0,   0,  61, 242, 254, 254,  52,   0,   0,\n",
              "         0,   0,   0,   0,   0,   0,   0,   0,   0,   0,   0,   0,   0,\n",
              "         0,   0,   0,   0,   0,   0,   0,   0, 121, 254, 254, 219,  40,\n",
              "         0,   0,   0,   0,   0,   0,   0,   0,   0,   0,   0,   0,   0,\n",
              "         0,   0,   0,   0,   0,   0,   0,   0,   0,   0, 121, 254, 207,\n",
              "        18,   0,   0,   0,   0,   0,   0,   0,   0,   0,   0,   0,   0,\n",
              "         0,   0,   0,   0,   0,   0,   0,   0,   0,   0,   0,   0,   0,\n",
              "         0,   0,   0,   0,   0,   0,   0,   0,   0,   0,   0,   0,   0,\n",
              "         0,   0,   0,   0], dtype=uint8)"
            ]
          },
          "metadata": {
            "tags": []
          },
          "execution_count": 3
        }
      ]
    },
    {
      "cell_type": "code",
      "metadata": {
        "id": "EuJVi3QKT9lD",
        "colab_type": "code",
        "colab": {}
      },
      "source": [
        "# Transformação dos dados para float para podermos normalizar os dados\n",
        "X_treinamento = X_treinamento.astype('float32')\n",
        "X_teste = X_teste.astype('float32')"
      ],
      "execution_count": 4,
      "outputs": []
    },
    {
      "cell_type": "code",
      "metadata": {
        "id": "jLE9T7qGT9lM",
        "colab_type": "code",
        "colab": {}
      },
      "source": [
        "# Normalização (255 é o valor máximo de um pixel)\n",
        "X_treinamento /= 255\n",
        "X_teste /= 255"
      ],
      "execution_count": 5,
      "outputs": []
    },
    {
      "cell_type": "code",
      "metadata": {
        "id": "oy2DoFFnT9lV",
        "colab_type": "code",
        "colab": {
          "base_uri": "https://localhost:8080/",
          "height": 34
        },
        "outputId": "66cd721d-2f75-4d31-fd31-b4f1d88bde18"
      },
      "source": [
        "# Transformação para o formato dummy (temos 10 classes)\n",
        "y_treinamento = np_utils.to_categorical(y_treinamento, 10)\n",
        "y_teste = np_utils.to_categorical(y_teste, 10)\n",
        "y_teste[0]"
      ],
      "execution_count": 6,
      "outputs": [
        {
          "output_type": "execute_result",
          "data": {
            "text/plain": [
              "array([0., 0., 0., 0., 0., 0., 0., 1., 0., 0.], dtype=float32)"
            ]
          },
          "metadata": {
            "tags": []
          },
          "execution_count": 6
        }
      ]
    },
    {
      "cell_type": "code",
      "metadata": {
        "id": "82yhYserT9lh",
        "colab_type": "code",
        "colab": {}
      },
      "source": [
        "# Estrutura da rede neural: 784 - 64 - 64 - 64 - 10\n",
        "# Dropout é utilizado para zerar uma porcentagem dos neurônios, para evitar o overfitting\n",
        "modelo = Sequential()\n",
        "modelo.add(Dense(units = 64, activation = 'relu', input_dim = 784))\n",
        "modelo.add(Dropout(0.2))\n",
        "modelo.add(Dense(units = 64, activation = 'relu'))\n",
        "modelo.add(Dropout(0.2))\n",
        "modelo.add(Dense(units = 64, activation = 'relu'))\n",
        "modelo.add(Dropout(0.2))\n",
        "#camada de saida, softmax probabilidade\n",
        "modelo.add(Dense(units = 10, activation = 'softmax'))"
      ],
      "execution_count": 7,
      "outputs": []
    },
    {
      "cell_type": "code",
      "metadata": {
        "id": "XifRrLTQT9lq",
        "colab_type": "code",
        "colab": {
          "base_uri": "https://localhost:8080/",
          "height": 391
        },
        "outputId": "82402cba-feb0-4f80-db7f-cb0cf28384bf"
      },
      "source": [
        "# Visualização da estrutura da rede neural\n",
        "modelo.summary()"
      ],
      "execution_count": 8,
      "outputs": [
        {
          "output_type": "stream",
          "text": [
            "Model: \"sequential\"\n",
            "_________________________________________________________________\n",
            "Layer (type)                 Output Shape              Param #   \n",
            "=================================================================\n",
            "dense (Dense)                (None, 64)                50240     \n",
            "_________________________________________________________________\n",
            "dropout (Dropout)            (None, 64)                0         \n",
            "_________________________________________________________________\n",
            "dense_1 (Dense)              (None, 64)                4160      \n",
            "_________________________________________________________________\n",
            "dropout_1 (Dropout)          (None, 64)                0         \n",
            "_________________________________________________________________\n",
            "dense_2 (Dense)              (None, 64)                4160      \n",
            "_________________________________________________________________\n",
            "dropout_2 (Dropout)          (None, 64)                0         \n",
            "_________________________________________________________________\n",
            "dense_3 (Dense)              (None, 10)                650       \n",
            "=================================================================\n",
            "Total params: 59,210\n",
            "Trainable params: 59,210\n",
            "Non-trainable params: 0\n",
            "_________________________________________________________________\n"
          ],
          "name": "stdout"
        }
      ]
    },
    {
      "cell_type": "code",
      "metadata": {
        "id": "1SVGMxL2T9l0",
        "colab_type": "code",
        "colab": {
          "base_uri": "https://localhost:8080/",
          "height": 717
        },
        "outputId": "7818896a-464b-46c9-e522-7081a4c4d9cf"
      },
      "source": [
        "# Configuração dos parâmetros da rede neural e treinamento (utilizando base de dados de validação)\n",
        "# Na variável historico temos os histórico das execuções (erro e accuracy)\n",
        "modelo.compile(optimizer = 'adam', loss = 'categorical_crossentropy',\n",
        "               metrics = ['accuracy'])\n",
        "historico = modelo.fit(X_treinamento, y_treinamento, epochs = 20,\n",
        "                       validation_data = (X_teste, y_teste))"
      ],
      "execution_count": 9,
      "outputs": [
        {
          "output_type": "stream",
          "text": [
            "Epoch 1/20\n",
            "1875/1875 [==============================] - 3s 2ms/step - loss: 0.4357 - accuracy: 0.8691 - val_loss: 0.1709 - val_accuracy: 0.9479\n",
            "Epoch 2/20\n",
            "1875/1875 [==============================] - 3s 1ms/step - loss: 0.2210 - accuracy: 0.9361 - val_loss: 0.1244 - val_accuracy: 0.9638\n",
            "Epoch 3/20\n",
            "1875/1875 [==============================] - 3s 1ms/step - loss: 0.1857 - accuracy: 0.9468 - val_loss: 0.1175 - val_accuracy: 0.9640\n",
            "Epoch 4/20\n",
            "1875/1875 [==============================] - 3s 1ms/step - loss: 0.1604 - accuracy: 0.9529 - val_loss: 0.1030 - val_accuracy: 0.9691\n",
            "Epoch 5/20\n",
            "1875/1875 [==============================] - 3s 1ms/step - loss: 0.1437 - accuracy: 0.9583 - val_loss: 0.0946 - val_accuracy: 0.9725\n",
            "Epoch 6/20\n",
            "1875/1875 [==============================] - 3s 1ms/step - loss: 0.1347 - accuracy: 0.9605 - val_loss: 0.0963 - val_accuracy: 0.9718\n",
            "Epoch 7/20\n",
            "1875/1875 [==============================] - 3s 1ms/step - loss: 0.1289 - accuracy: 0.9627 - val_loss: 0.0909 - val_accuracy: 0.9730\n",
            "Epoch 8/20\n",
            "1875/1875 [==============================] - 3s 2ms/step - loss: 0.1248 - accuracy: 0.9629 - val_loss: 0.0906 - val_accuracy: 0.9719\n",
            "Epoch 9/20\n",
            "1875/1875 [==============================] - 3s 2ms/step - loss: 0.1148 - accuracy: 0.9667 - val_loss: 0.0936 - val_accuracy: 0.9731\n",
            "Epoch 10/20\n",
            "1875/1875 [==============================] - 3s 2ms/step - loss: 0.1096 - accuracy: 0.9671 - val_loss: 0.0943 - val_accuracy: 0.9748\n",
            "Epoch 11/20\n",
            "1875/1875 [==============================] - 3s 1ms/step - loss: 0.1073 - accuracy: 0.9678 - val_loss: 0.0900 - val_accuracy: 0.9757\n",
            "Epoch 12/20\n",
            "1875/1875 [==============================] - 3s 1ms/step - loss: 0.1033 - accuracy: 0.9693 - val_loss: 0.0871 - val_accuracy: 0.9748\n",
            "Epoch 13/20\n",
            "1875/1875 [==============================] - 3s 1ms/step - loss: 0.0999 - accuracy: 0.9699 - val_loss: 0.0942 - val_accuracy: 0.9744\n",
            "Epoch 14/20\n",
            "1875/1875 [==============================] - 3s 1ms/step - loss: 0.0962 - accuracy: 0.9707 - val_loss: 0.0828 - val_accuracy: 0.9761\n",
            "Epoch 15/20\n",
            "1875/1875 [==============================] - 3s 1ms/step - loss: 0.0925 - accuracy: 0.9712 - val_loss: 0.0943 - val_accuracy: 0.9742\n",
            "Epoch 16/20\n",
            "1875/1875 [==============================] - 3s 1ms/step - loss: 0.0917 - accuracy: 0.9722 - val_loss: 0.0871 - val_accuracy: 0.9762\n",
            "Epoch 17/20\n",
            "1875/1875 [==============================] - 3s 1ms/step - loss: 0.0879 - accuracy: 0.9734 - val_loss: 0.0846 - val_accuracy: 0.9763\n",
            "Epoch 18/20\n",
            "1875/1875 [==============================] - 3s 1ms/step - loss: 0.0865 - accuracy: 0.9732 - val_loss: 0.0846 - val_accuracy: 0.9758\n",
            "Epoch 19/20\n",
            "1875/1875 [==============================] - 3s 1ms/step - loss: 0.0887 - accuracy: 0.9725 - val_loss: 0.0844 - val_accuracy: 0.9757\n",
            "Epoch 20/20\n",
            "1875/1875 [==============================] - 3s 1ms/step - loss: 0.0826 - accuracy: 0.9754 - val_loss: 0.0908 - val_accuracy: 0.9765\n"
          ],
          "name": "stdout"
        }
      ]
    },
    {
      "cell_type": "code",
      "metadata": {
        "id": "3qbpoPZxT9l8",
        "colab_type": "code",
        "colab": {
          "base_uri": "https://localhost:8080/",
          "height": 282
        },
        "outputId": "b2e8f961-d4d2-471c-8d26-31589c35c302"
      },
      "source": [
        "# Gráfico para visualizar os erros e accuracy\n",
        "historico.history.keys()\n",
        "#evolução do erro, azul\n",
        "plt.plot(historico.history['val_loss'])\n",
        "#performance da rede\n",
        "plt.plot(historico.history['val_accuracy'])"
      ],
      "execution_count": 10,
      "outputs": [
        {
          "output_type": "execute_result",
          "data": {
            "text/plain": [
              "[<matplotlib.lines.Line2D at 0x7efd4ccab7f0>]"
            ]
          },
          "metadata": {
            "tags": []
          },
          "execution_count": 10
        },
        {
          "output_type": "display_data",
          "data": {
            "image/png": "[encoded data removed]",
            "text/plain": [
              "<Figure size 432x288 with 1 Axes>"
            ]
          },
          "metadata": {
            "tags": [],
            "needs_background": "light"
          }
        }
      ]
    },
    {
      "cell_type": "code",
      "metadata": {
        "id": "y3PLXv0eT9mE",
        "colab_type": "code",
        "colab": {
          "base_uri": "https://localhost:8080/",
          "height": 238
        },
        "outputId": "01e2c599-ecb6-4287-b818-7b98017dc2ac"
      },
      "source": [
        "# Obtenção das previsões \n",
        "previsoes = modelo.predict(X_teste)\n",
        "previsoes"
      ],
      "execution_count": 11,
      "outputs": [
        {
          "output_type": "execute_result",
          "data": {
            "text/plain": [
              "array([[5.1290122e-14, 2.6967506e-09, 1.0753057e-06, ..., 9.9999809e-01,\n",
              "        7.0335897e-11, 5.3725405e-08],\n",
              "       [1.8434304e-12, 6.2211757e-06, 9.9999332e-01, ..., 1.8927888e-07,\n",
              "        1.3821854e-07, 4.4231632e-16],\n",
              "       [6.9887922e-15, 9.9999845e-01, 1.1227596e-08, ..., 3.4940021e-07,\n",
              "        6.3020644e-07, 7.5849504e-10],\n",
              "       ...,\n",
              "       [9.5796589e-16, 2.3606405e-12, 1.5975599e-09, ..., 1.4654162e-09,\n",
              "        2.5213397e-11, 1.1047348e-06],\n",
              "       [1.1571371e-18, 8.1880478e-17, 1.6043646e-17, ..., 7.1135696e-18,\n",
              "        3.5575622e-11, 2.2730907e-11],\n",
              "       [1.6232532e-15, 1.4897045e-17, 4.5254609e-16, ..., 7.3385426e-17,\n",
              "        2.4346828e-11, 1.5041844e-19]], dtype=float32)"
            ]
          },
          "metadata": {
            "tags": []
          },
          "execution_count": 11
        }
      ]
    },
    {
      "cell_type": "code",
      "metadata": {
        "id": "5oY-nx6mT9mU",
        "colab_type": "code",
        "colab": {
          "base_uri": "https://localhost:8080/",
          "height": 187
        },
        "outputId": "28998287-8681-4dca-971c-9d33b6b98188"
      },
      "source": [
        "# valor máximo (com a probabilidade maior por serem 10 saídas) e geração da matriz de confusão\n",
        "y_teste_matriz = [np.argmax(t) for t in y_teste]\n",
        "y_previsoes_matriz = [np.argmax(t) for t in previsoes]\n",
        "confusao = confusion_matrix(y_teste_matriz, y_previsoes_matriz)\n",
        "confusao"
      ],
      "execution_count": 12,
      "outputs": [
        {
          "output_type": "execute_result",
          "data": {
            "text/plain": [
              "array([[ 971,    1,    2,    1,    0,    0,    2,    1,    2,    0],\n",
              "       [   0, 1124,    1,    2,    0,    2,    2,    0,    4,    0],\n",
              "       [   2,    0, 1002,   10,    1,    0,    2,    6,    9,    0],\n",
              "       [   0,    0,    4,  980,    0,   12,    0,    4,    5,    5],\n",
              "       [   1,    0,    3,    0,  955,    0,   10,    0,    2,   11],\n",
              "       [   3,    1,    0,    7,    1,  869,    6,    1,    3,    1],\n",
              "       [   3,    2,    0,    0,    2,    5,  942,    0,    4,    0],\n",
              "       [   0,    6,    8,    4,    2,    0,    0,  996,    0,   12],\n",
              "       [   4,    2,    1,    6,    3,    4,    2,    3,  946,    3],\n",
              "       [   4,    5,    0,    5,    6,    5,    0,    2,    2,  980]])"
            ]
          },
          "metadata": {
            "tags": []
          },
          "execution_count": 12
        }
      ]
    },
    {
      "cell_type": "code",
      "metadata": {
        "id": "mqpXgBctT9md",
        "colab_type": "code",
        "colab": {
          "base_uri": "https://localhost:8080/",
          "height": 34
        },
        "outputId": "262d2c61-f2dc-47f8-bc1a-c7e8af3c00ac"
      },
      "source": [
        "# Previsão com um novo registro, convertendo o array para o formato de matriz\n",
        "#número 4\n",
        "y_treinamento[20]"
      ],
      "execution_count": 13,
      "outputs": [
        {
          "output_type": "execute_result",
          "data": {
            "text/plain": [
              "array([0., 0., 0., 0., 1., 0., 0., 0., 0., 0.], dtype=float32)"
            ]
          },
          "metadata": {
            "tags": []
          },
          "execution_count": 13
        }
      ]
    },
    {
      "cell_type": "code",
      "metadata": {
        "id": "PZ98fdJBT9mk",
        "colab_type": "code",
        "colab": {
          "base_uri": "https://localhost:8080/",
          "height": 34
        },
        "outputId": "40258b4a-58f8-4197-ccf7-d62259ca9f92"
      },
      "source": [
        "#passo a mesma posição para o modelo prever\n",
        "novo = X_treinamento[20]\n",
        "#de matriz para vetor\n",
        "novo = np.expand_dims(novo, axis = 0)\n",
        "#previsao\n",
        "pred = modelo.predict(novo)\n",
        "#maior valor\n",
        "pred = [np.argmax(pred) for t in pred]\n",
        "pred"
      ],
      "execution_count": 14,
      "outputs": [
        {
          "output_type": "execute_result",
          "data": {
            "text/plain": [
              "[4]"
            ]
          },
          "metadata": {
            "tags": []
          },
          "execution_count": 14
        }
      ]
    },
    {
      "cell_type": "code",
      "metadata": {
        "id": "2Xv7r6QHT9mr",
        "colab_type": "code",
        "colab": {}
      },
      "source": [
        ""
      ],
      "execution_count": null,
      "outputs": []
    }
  ]
}