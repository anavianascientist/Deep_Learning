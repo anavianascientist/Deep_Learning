{
  "nbformat": 4,
  "nbformat_minor": 0,
  "metadata": {
    "kernelspec": {
      "display_name": "Python 3",
      "language": "python",
      "name": "python3"
    },
    "language_info": {
      "codemirror_mode": {
        "name": "ipython",
        "version": 3
      },
      "file_extension": ".py",
      "mimetype": "text/x-python",
      "name": "python",
      "nbconvert_exporter": "python",
      "pygments_lexer": "ipython3",
      "version": "3.7.6"
    },
    "colab": {
      "name": "DeepLearning2.ipynb",
      "provenance": [],
      "include_colab_link": true
    }
  },
  "cells": [
    {
      "cell_type": "markdown",
      "metadata": {
        "id": "view-in-github",
        "colab_type": "text"
      },
      "source": [
        "<a href=\"https://colab.research.google.com/github/anavianascientist/Deep_Learning/blob/master/DeepLearning2.ipynb\" target=\"_parent\"><img src=\"https://colab.research.google.com/assets/colab-badge.svg\" alt=\"Open In Colab\"/></a>"
      ]
    },
    {
      "cell_type": "markdown",
      "metadata": {
        "id": "2CKkCc47b6PZ",
        "colab_type": "text"
      },
      "source": [
        "\n",
        "# Deep Learning"
      ]
    },
    {
      "cell_type": "code",
      "metadata": {
        "id": "dNZu6-jVb6Pn",
        "colab_type": "code",
        "colab": {}
      },
      "source": [
        "import pandas as pd\n",
        "from keras.models import Sequential\n",
        "from keras.layers import Dense\n",
        "from sklearn.model_selection import train_test_split\n",
        "from sklearn.metrics import confusion_matrix\n",
        "from sklearn.preprocessing import LabelEncoder, OneHotEncoder\n",
        "from sklearn.preprocessing import StandardScaler\n",
        "from sklearn.compose import make_column_transformer\n",
        "import io"
      ],
      "execution_count": null,
      "outputs": []
    },
    {
      "cell_type": "code",
      "metadata": {
        "id": "cVBiq0l5b6Pv",
        "colab_type": "code",
        "colab": {
          "resources": {
            "http://localhost:8080/nbextensions/google.colab/files.js": {
              "data": "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",
              "ok": true,
              "headers": [
                [
                  "content-type",
                  "application/javascript"
                ]
              ],
              "status": 200,
              "status_text": ""
            }
          },
          "base_uri": "https://localhost:8080/",
          "height": 72
        },
        "outputId": "0fe699ea-20f1-49d4-e9c3-6005d05e6407"
      },
      "source": [
        "from google.colab import files\n",
        "uploaded = files.upload()"
      ],
      "execution_count": null,
      "outputs": [
        {
          "output_type": "display_data",
          "data": {
            "text/html": [
              "\n",
              "     <input type=\"file\" id=\"files-d08099ea-a521-4a58-af2a-b50a9c6c57c6\" name=\"files[]\" multiple disabled\n",
              "        style=\"border:none\" />\n",
              "     <output id=\"result-d08099ea-a521-4a58-af2a-b50a9c6c57c6\">\n",
              "      Upload widget is only available when the cell has been executed in the\n",
              "      current browser session. Please rerun this cell to enable.\n",
              "      </output>\n",
              "      <script src=\"/nbextensions/google.colab/files.js\"></script> "
            ],
            "text/plain": [
              "<IPython.core.display.HTML object>"
            ]
          },
          "metadata": {
            "tags": []
          }
        },
        {
          "output_type": "stream",
          "text": [
            "Saving Credit2.csv to Credit2.csv\n"
          ],
          "name": "stdout"
        }
      ]
    },
    {
      "cell_type": "code",
      "metadata": {
        "id": "5AIYKnkCcSe7",
        "colab_type": "code",
        "colab": {
          "base_uri": "https://localhost:8080/",
          "height": 275
        },
        "outputId": "1aedd315-79fd-4589-c3c9-f8fc0a046b83"
      },
      "source": [
        "dataset = pd.read_csv(io.BytesIO(uploaded['Credit2.csv']), sep=';')\n",
        "dataset.head()"
      ],
      "execution_count": null,
      "outputs": [
        {
          "output_type": "execute_result",
          "data": {
            "text/html": [
              "<div>\n",
              "<style scoped>\n",
              "    .dataframe tbody tr th:only-of-type {\n",
              "        vertical-align: middle;\n",
              "    }\n",
              "\n",
              "    .dataframe tbody tr th {\n",
              "        vertical-align: top;\n",
              "    }\n",
              "\n",
              "    .dataframe thead th {\n",
              "        text-align: right;\n",
              "    }\n",
              "</style>\n",
              "<table border=\"1\" class=\"dataframe\">\n",
              "  <thead>\n",
              "    <tr style=\"text-align: right;\">\n",
              "      <th></th>\n",
              "      <th>ID</th>\n",
              "      <th>checking_status</th>\n",
              "      <th>credit_history</th>\n",
              "      <th>duration</th>\n",
              "      <th>credit_amount</th>\n",
              "      <th>installment_commitment</th>\n",
              "      <th>residence_since</th>\n",
              "      <th>age</th>\n",
              "      <th>existing_credits</th>\n",
              "      <th>num_dependents</th>\n",
              "      <th>class</th>\n",
              "    </tr>\n",
              "  </thead>\n",
              "  <tbody>\n",
              "    <tr>\n",
              "      <th>0</th>\n",
              "      <td>1</td>\n",
              "      <td>&lt;0</td>\n",
              "      <td>critical/other existing credit</td>\n",
              "      <td>6</td>\n",
              "      <td>1169</td>\n",
              "      <td>4</td>\n",
              "      <td>4</td>\n",
              "      <td>67</td>\n",
              "      <td>2</td>\n",
              "      <td>1</td>\n",
              "      <td>good</td>\n",
              "    </tr>\n",
              "    <tr>\n",
              "      <th>1</th>\n",
              "      <td>2</td>\n",
              "      <td>0&lt;=X&lt;200</td>\n",
              "      <td>existing paid</td>\n",
              "      <td>48</td>\n",
              "      <td>5951</td>\n",
              "      <td>2</td>\n",
              "      <td>2</td>\n",
              "      <td>22</td>\n",
              "      <td>1</td>\n",
              "      <td>1</td>\n",
              "      <td>bad</td>\n",
              "    </tr>\n",
              "    <tr>\n",
              "      <th>2</th>\n",
              "      <td>3</td>\n",
              "      <td>no checking</td>\n",
              "      <td>critical/other existing credit</td>\n",
              "      <td>12</td>\n",
              "      <td>2096</td>\n",
              "      <td>2</td>\n",
              "      <td>3</td>\n",
              "      <td>49</td>\n",
              "      <td>1</td>\n",
              "      <td>2</td>\n",
              "      <td>good</td>\n",
              "    </tr>\n",
              "    <tr>\n",
              "      <th>3</th>\n",
              "      <td>4</td>\n",
              "      <td>&lt;0</td>\n",
              "      <td>existing paid</td>\n",
              "      <td>42</td>\n",
              "      <td>7882</td>\n",
              "      <td>2</td>\n",
              "      <td>4</td>\n",
              "      <td>45</td>\n",
              "      <td>1</td>\n",
              "      <td>2</td>\n",
              "      <td>good</td>\n",
              "    </tr>\n",
              "    <tr>\n",
              "      <th>4</th>\n",
              "      <td>5</td>\n",
              "      <td>&lt;0</td>\n",
              "      <td>delayed previously</td>\n",
              "      <td>24</td>\n",
              "      <td>4870</td>\n",
              "      <td>3</td>\n",
              "      <td>4</td>\n",
              "      <td>53</td>\n",
              "      <td>2</td>\n",
              "      <td>2</td>\n",
              "      <td>bad</td>\n",
              "    </tr>\n",
              "  </tbody>\n",
              "</table>\n",
              "</div>"
            ],
            "text/plain": [
              "   ID checking_status  ... num_dependents  class\n",
              "0   1              <0  ...              1   good\n",
              "1   2        0<=X<200  ...              1    bad\n",
              "2   3     no checking  ...              2   good\n",
              "3   4              <0  ...              2   good\n",
              "4   5              <0  ...              2    bad\n",
              "\n",
              "[5 rows x 11 columns]"
            ]
          },
          "metadata": {
            "tags": []
          },
          "execution_count": 6
        }
      ]
    },
    {
      "cell_type": "code",
      "metadata": {
        "id": "cei5QuRUb6P8",
        "colab_type": "code",
        "colab": {
          "base_uri": "https://localhost:8080/",
          "height": 170
        },
        "outputId": "8c8825f6-e002-42e2-e5e6-b63d2b59225e"
      },
      "source": [
        "#separação das variáveis, ignoro primeira pois não tem valor semântico\n",
        "X = dataset.iloc[:,1:10].values\n",
        "y = dataset.iloc[:, 10].values\n",
        "#temos um array e não mais um data frame\n",
        "X"
      ],
      "execution_count": null,
      "outputs": [
        {
          "output_type": "execute_result",
          "data": {
            "text/plain": [
              "array([['<0', 'critical/other existing credit', 6, ..., 67, 2, 1],\n",
              "       ['0<=X<200', 'existing paid', 48, ..., 22, 1, 1],\n",
              "       ['no checking', 'critical/other existing credit', 12, ..., 49, 1,\n",
              "        2],\n",
              "       ...,\n",
              "       ['no checking', 'existing paid', 12, ..., 38, 1, 1],\n",
              "       ['<0', 'existing paid', 45, ..., 23, 1, 1],\n",
              "       ['0<=X<200', 'critical/other existing credit', 45, ..., 27, 1, 1]],\n",
              "      dtype=object)"
            ]
          },
          "metadata": {
            "tags": []
          },
          "execution_count": 7
        }
      ]
    },
    {
      "cell_type": "code",
      "metadata": {
        "id": "ze14s76Eb6QE",
        "colab_type": "code",
        "colab": {
          "base_uri": "https://localhost:8080/",
          "height": 153
        },
        "outputId": "704da856-f09c-4fe1-83ff-c0ea4a236a99"
      },
      "source": [
        "#label encoder coluna checking_status\n",
        "#atribui valores de zero a 3\n",
        "labelencoder = LabelEncoder()\n",
        "X[:,0] = labelencoder.fit_transform(X[:,0])\n",
        "X"
      ],
      "execution_count": null,
      "outputs": [
        {
          "output_type": "execute_result",
          "data": {
            "text/plain": [
              "array([[1, 'critical/other existing credit', 6, ..., 67, 2, 1],\n",
              "       [0, 'existing paid', 48, ..., 22, 1, 1],\n",
              "       [3, 'critical/other existing credit', 12, ..., 49, 1, 2],\n",
              "       ...,\n",
              "       [3, 'existing paid', 12, ..., 38, 1, 1],\n",
              "       [1, 'existing paid', 45, ..., 23, 1, 1],\n",
              "       [0, 'critical/other existing credit', 45, ..., 27, 1, 1]],\n",
              "      dtype=object)"
            ]
          },
          "metadata": {
            "tags": []
          },
          "execution_count": 8
        }
      ]
    },
    {
      "cell_type": "code",
      "metadata": {
        "id": "fjkcs2Wtb6QO",
        "colab_type": "code",
        "colab": {
          "base_uri": "https://localhost:8080/",
          "height": 136
        },
        "outputId": "066510ef-c49b-45a3-af7e-fd33f5090ae7"
      },
      "source": [
        "#one hot encoder coluna credit_history\n",
        "#deve adicionar 5 colunas\n",
        "onehotencoder = make_column_transformer((OneHotEncoder(categories='auto', sparse=False), [1]), remainder=\"passthrough\")\n",
        "X = onehotencoder.fit_transform(X)\n",
        "X"
      ],
      "execution_count": null,
      "outputs": [
        {
          "output_type": "execute_result",
          "data": {
            "text/plain": [
              "array([[0.0, 1.0, 0.0, ..., 67, 2, 1],\n",
              "       [0.0, 0.0, 0.0, ..., 22, 1, 1],\n",
              "       [0.0, 1.0, 0.0, ..., 49, 1, 2],\n",
              "       ...,\n",
              "       [0.0, 0.0, 0.0, ..., 38, 1, 1],\n",
              "       [0.0, 0.0, 0.0, ..., 23, 1, 1],\n",
              "       [0.0, 1.0, 0.0, ..., 27, 1, 1]], dtype=object)"
            ]
          },
          "metadata": {
            "tags": []
          },
          "execution_count": 9
        }
      ]
    },
    {
      "cell_type": "code",
      "metadata": {
        "id": "TxQfbMYsb6QW",
        "colab_type": "code",
        "colab": {
          "base_uri": "https://localhost:8080/",
          "height": 136
        },
        "outputId": "a642c765-6650-45e5-9cbe-777c7d6361c7"
      },
      "source": [
        "#Excluimos a variável para evitar a dummy variable trap\n",
        "X = X[:,1:]\n",
        "X"
      ],
      "execution_count": null,
      "outputs": [
        {
          "output_type": "execute_result",
          "data": {
            "text/plain": [
              "array([[1.0, 0.0, 0.0, ..., 67, 2, 1],\n",
              "       [0.0, 0.0, 1.0, ..., 22, 1, 1],\n",
              "       [1.0, 0.0, 0.0, ..., 49, 1, 2],\n",
              "       ...,\n",
              "       [0.0, 0.0, 1.0, ..., 38, 1, 1],\n",
              "       [0.0, 0.0, 1.0, ..., 23, 1, 1],\n",
              "       [1.0, 0.0, 0.0, ..., 27, 1, 1]], dtype=object)"
            ]
          },
          "metadata": {
            "tags": []
          },
          "execution_count": 10
        }
      ]
    },
    {
      "cell_type": "code",
      "metadata": {
        "id": "jU3XTYoBb6Qh",
        "colab_type": "code",
        "colab": {
          "base_uri": "https://localhost:8080/",
          "height": 799
        },
        "outputId": "4eaf725f-f3de-4e51-937b-bf3c6f58bf2f"
      },
      "source": [
        "#Label encoder com a classe\n",
        "labelencoder_Y = LabelEncoder()\n",
        "y = labelencoder_Y.fit_transform(y)\n",
        "y"
      ],
      "execution_count": null,
      "outputs": [
        {
          "output_type": "execute_result",
          "data": {
            "text/plain": [
              "array([1, 0, 1, 1, 0, 1, 1, 1, 1, 0, 0, 0, 1, 0, 1, 0, 1, 1, 0, 1, 1, 1,\n",
              "       1, 1, 1, 1, 1, 1, 1, 0, 1, 1, 1, 1, 1, 0, 1, 0, 1, 1, 1, 1, 1, 1,\n",
              "       0, 1, 1, 1, 1, 1, 1, 1, 1, 1, 0, 1, 0, 1, 1, 0, 1, 1, 0, 0, 1, 1,\n",
              "       1, 1, 0, 1, 1, 1, 1, 1, 0, 1, 0, 1, 1, 1, 0, 1, 1, 1, 1, 1, 1, 0,\n",
              "       1, 0, 1, 1, 0, 1, 1, 0, 1, 1, 1, 1, 1, 1, 1, 1, 1, 0, 0, 1, 1, 1,\n",
              "       1, 1, 1, 0, 1, 1, 0, 1, 0, 1, 0, 1, 1, 1, 0, 1, 1, 0, 1, 0, 1, 0,\n",
              "       1, 1, 1, 1, 1, 0, 1, 1, 1, 1, 1, 0, 1, 1, 1, 1, 1, 1, 1, 1, 1, 1,\n",
              "       1, 0, 1, 1, 1, 1, 1, 1, 1, 1, 1, 1, 0, 1, 1, 0, 0, 1, 0, 1, 0, 0,\n",
              "       1, 1, 1, 1, 0, 0, 0, 1, 0, 1, 0, 1, 0, 1, 0, 0, 0, 1, 0, 0, 1, 0,\n",
              "       1, 0, 1, 1, 1, 0, 1, 1, 1, 1, 1, 1, 1, 1, 0, 0, 1, 1, 1, 1, 1, 1,\n",
              "       1, 1, 1, 1, 1, 1, 0, 0, 0, 1, 0, 1, 1, 1, 1, 0, 0, 0, 1, 1, 0, 1,\n",
              "       0, 1, 1, 1, 1, 1, 1, 0, 1, 1, 0, 1, 1, 1, 1, 0, 1, 1, 1, 1, 1, 1,\n",
              "       1, 0, 1, 1, 0, 1, 1, 1, 1, 0, 0, 1, 1, 1, 0, 1, 1, 1, 1, 1, 1, 1,\n",
              "       1, 1, 1, 0, 1, 0, 1, 1, 1, 0, 1, 1, 1, 1, 1, 0, 0, 1, 0, 1, 1, 0,\n",
              "       0, 1, 1, 1, 1, 0, 1, 0, 1, 1, 1, 1, 0, 0, 1, 1, 1, 1, 1, 1, 1, 1,\n",
              "       1, 0, 0, 0, 0, 0, 1, 0, 1, 1, 1, 1, 1, 1, 1, 1, 1, 1, 1, 0, 1, 0,\n",
              "       1, 0, 1, 0, 1, 0, 1, 0, 1, 1, 1, 1, 0, 1, 1, 1, 0, 1, 1, 1, 1, 1,\n",
              "       0, 0, 1, 1, 0, 1, 1, 0, 1, 1, 1, 1, 1, 1, 1, 1, 1, 1, 1, 1, 1, 1,\n",
              "       1, 1, 0, 1, 1, 1, 0, 1, 1, 0, 1, 1, 1, 0, 1, 1, 0, 1, 0, 1, 0, 1,\n",
              "       1, 0, 1, 1, 1, 1, 0, 1, 1, 1, 1, 0, 1, 0, 1, 1, 1, 0, 1, 1, 1, 0,\n",
              "       1, 1, 1, 0, 0, 1, 0, 1, 1, 0, 1, 1, 1, 1, 0, 1, 1, 0, 1, 1, 1, 1,\n",
              "       1, 1, 1, 1, 0, 1, 1, 1, 0, 0, 0, 1, 0, 0, 1, 1, 1, 1, 1, 1, 1, 1,\n",
              "       1, 0, 1, 1, 1, 1, 1, 0, 1, 1, 1, 0, 0, 1, 1, 1, 0, 1, 1, 0, 0, 0,\n",
              "       1, 0, 1, 1, 0, 1, 1, 1, 1, 1, 1, 0, 1, 1, 1, 0, 0, 1, 1, 1, 1, 1,\n",
              "       0, 1, 1, 0, 1, 1, 1, 0, 1, 1, 0, 1, 0, 1, 0, 0, 1, 0, 1, 1, 0, 1,\n",
              "       1, 1, 0, 1, 1, 0, 0, 0, 0, 0, 1, 0, 1, 0, 1, 1, 0, 1, 1, 0, 0, 1,\n",
              "       1, 1, 1, 1, 1, 1, 0, 1, 0, 1, 1, 0, 1, 0, 1, 1, 0, 0, 1, 1, 1, 0,\n",
              "       0, 0, 0, 0, 0, 1, 1, 0, 0, 0, 1, 1, 1, 0, 1, 1, 0, 0, 1, 1, 0, 1,\n",
              "       1, 1, 0, 1, 1, 0, 0, 1, 0, 1, 1, 0, 1, 1, 1, 0, 1, 0, 0, 1, 1, 1,\n",
              "       1, 0, 0, 1, 0, 1, 1, 0, 1, 0, 0, 0, 1, 0, 0, 0, 1, 1, 0, 1, 1, 1,\n",
              "       1, 0, 1, 1, 1, 1, 1, 1, 0, 1, 1, 1, 1, 1, 0, 1, 1, 0, 1, 1, 1, 1,\n",
              "       1, 1, 1, 1, 1, 1, 1, 1, 1, 1, 1, 1, 1, 1, 1, 1, 1, 1, 0, 0, 1, 1,\n",
              "       1, 1, 0, 0, 1, 1, 1, 0, 1, 1, 0, 1, 1, 1, 1, 1, 0, 0, 0, 1, 0, 1,\n",
              "       1, 0, 0, 1, 1, 0, 1, 1, 1, 1, 0, 1, 1, 0, 1, 1, 1, 1, 1, 1, 1, 0,\n",
              "       1, 1, 1, 0, 1, 1, 0, 0, 1, 0, 1, 0, 1, 0, 1, 0, 1, 1, 0, 1, 1, 1,\n",
              "       1, 0, 1, 1, 1, 0, 1, 1, 1, 1, 0, 1, 1, 0, 1, 1, 1, 1, 0, 0, 0, 1,\n",
              "       1, 1, 1, 1, 0, 1, 1, 1, 1, 1, 1, 1, 1, 0, 1, 1, 1, 0, 1, 1, 0, 0,\n",
              "       0, 1, 1, 1, 1, 0, 1, 1, 0, 1, 1, 1, 0, 0, 0, 1, 1, 0, 0, 1, 0, 0,\n",
              "       1, 1, 1, 1, 0, 1, 0, 1, 1, 1, 0, 1, 1, 0, 0, 1, 1, 0, 1, 1, 1, 1,\n",
              "       0, 1, 1, 0, 0, 1, 0, 1, 1, 1, 1, 1, 1, 1, 1, 1, 1, 1, 1, 1, 0, 1,\n",
              "       1, 1, 1, 1, 0, 0, 1, 0, 1, 1, 1, 1, 1, 1, 1, 1, 1, 1, 1, 0, 0, 1,\n",
              "       1, 1, 1, 1, 1, 1, 1, 1, 1, 0, 1, 1, 0, 0, 1, 0, 0, 0, 1, 1, 0, 1,\n",
              "       0, 0, 1, 0, 1, 1, 1, 0, 1, 1, 1, 0, 0, 1, 0, 1, 1, 1, 1, 1, 1, 1,\n",
              "       0, 1, 0, 0, 1, 0, 0, 0, 1, 1, 1, 1, 0, 1, 1, 1, 1, 0, 1, 1, 0, 1,\n",
              "       1, 1, 1, 1, 0, 0, 1, 1, 1, 1, 0, 0, 0, 0, 1, 0, 1, 1, 1, 1, 1, 1,\n",
              "       1, 1, 1, 1, 1, 1, 1, 1, 0, 1])"
            ]
          },
          "metadata": {
            "tags": []
          },
          "execution_count": 11
        }
      ]
    },
    {
      "cell_type": "code",
      "metadata": {
        "id": "DdhEpDmgb6Qp",
        "colab_type": "code",
        "colab": {
          "base_uri": "https://localhost:8080/",
          "height": 34
        },
        "outputId": "9dd81de8-05da-4128-dca1-6b9b8bebf68d"
      },
      "source": [
        "#separação em treino e teste\n",
        "X_train, X_test, y_train, y_test = train_test_split(X, y, test_size = 0.2, random_state = 0)\n",
        "print(len(X_train),len(X_test),len(y_train),len(y_test))"
      ],
      "execution_count": null,
      "outputs": [
        {
          "output_type": "stream",
          "text": [
            "800 200 800 200\n"
          ],
          "name": "stdout"
        }
      ]
    },
    {
      "cell_type": "code",
      "metadata": {
        "id": "4SueTghob6Qx",
        "colab_type": "code",
        "colab": {
          "base_uri": "https://localhost:8080/",
          "height": 238
        },
        "outputId": "023c33df-c1d6-45e6-e39d-e711040a85f6"
      },
      "source": [
        "#Feature Scalling, Padronização z-score\n",
        "sc = StandardScaler()\n",
        "X_train = sc.fit_transform(X_train)\n",
        "X_test = sc.transform(X_test)\n",
        "X_test"
      ],
      "execution_count": null,
      "outputs": [
        {
          "output_type": "execute_result",
          "data": {
            "text/plain": [
              "array([[-0.65270587, -0.30966177,  0.95357636, ..., -0.50870719,\n",
              "        -0.71596668, -0.42214126],\n",
              "       [-0.65270587, -0.30966177,  0.95357636, ..., -0.85315557,\n",
              "        -0.71596668,  2.36887531],\n",
              "       [-0.65270587, -0.30966177,  0.95357636, ...,  0.61075002,\n",
              "        -0.71596668, -0.42214126],\n",
              "       ...,\n",
              "       [ 1.53208366, -0.30966177, -1.04868371, ...,  0.26630165,\n",
              "         1.04100677, -0.42214126],\n",
              "       [-0.65270587,  3.22932987, -1.04868371, ...,  0.52463793,\n",
              "         4.55495365, -0.42214126],\n",
              "       [-0.65270587, -0.30966177,  0.95357636, ...,  0.52463793,\n",
              "        -0.71596668,  2.36887531]])"
            ]
          },
          "metadata": {
            "tags": []
          },
          "execution_count": 13
        }
      ]
    },
    {
      "cell_type": "code",
      "metadata": {
        "id": "eP2Z5PV7b6Q5",
        "colab_type": "code",
        "colab": {
          "base_uri": "https://localhost:8080/",
          "height": 1000
        },
        "outputId": "bf52058e-f814-4111-808d-a910b6b8d5fa"
      },
      "source": [
        "classifier = Sequential()\n",
        "classifier.add(Dense(units = 6, kernel_initializer = 'uniform', activation = 'relu', input_dim = 12))\n",
        "classifier.add(Dense(units = 6, kernel_initializer = 'uniform', activation = 'relu'))\n",
        "classifier.add(Dense(units = 1, kernel_initializer = 'uniform', activation = 'sigmoid'))\n",
        "classifier.compile(optimizer = 'adam', loss = 'binary_crossentropy', metrics = ['accuracy'])\n",
        "classifier.fit(X_train, y_train, batch_size = 10, epochs = 100)"
      ],
      "execution_count": null,
      "outputs": [
        {
          "output_type": "stream",
          "text": [
            "Epoch 1/100\n",
            "80/80 [==============================] - 0s 991us/step - loss: 0.6851 - accuracy: 0.6963\n",
            "Epoch 2/100\n",
            "80/80 [==============================] - 0s 856us/step - loss: 0.6459 - accuracy: 0.6975\n",
            "Epoch 3/100\n",
            "80/80 [==============================] - 0s 894us/step - loss: 0.5781 - accuracy: 0.6975\n",
            "Epoch 4/100\n",
            "80/80 [==============================] - 0s 851us/step - loss: 0.5432 - accuracy: 0.6975\n",
            "Epoch 5/100\n",
            "80/80 [==============================] - 0s 891us/step - loss: 0.5317 - accuracy: 0.7000\n",
            "Epoch 6/100\n",
            "80/80 [==============================] - 0s 864us/step - loss: 0.5253 - accuracy: 0.7200\n",
            "Epoch 7/100\n",
            "80/80 [==============================] - 0s 901us/step - loss: 0.5216 - accuracy: 0.7437\n",
            "Epoch 8/100\n",
            "80/80 [==============================] - 0s 840us/step - loss: 0.5181 - accuracy: 0.7450\n",
            "Epoch 9/100\n",
            "80/80 [==============================] - 0s 830us/step - loss: 0.5161 - accuracy: 0.7487\n",
            "Epoch 10/100\n",
            "80/80 [==============================] - 0s 902us/step - loss: 0.5134 - accuracy: 0.7487\n",
            "Epoch 11/100\n",
            "80/80 [==============================] - 0s 849us/step - loss: 0.5110 - accuracy: 0.7538\n",
            "Epoch 12/100\n",
            "80/80 [==============================] - 0s 889us/step - loss: 0.5098 - accuracy: 0.7550\n",
            "Epoch 13/100\n",
            "80/80 [==============================] - 0s 860us/step - loss: 0.5084 - accuracy: 0.7550\n",
            "Epoch 14/100\n",
            "80/80 [==============================] - 0s 1ms/step - loss: 0.5071 - accuracy: 0.7550\n",
            "Epoch 15/100\n",
            "80/80 [==============================] - 0s 824us/step - loss: 0.5056 - accuracy: 0.7563\n",
            "Epoch 16/100\n",
            "80/80 [==============================] - 0s 814us/step - loss: 0.5051 - accuracy: 0.7600\n",
            "Epoch 17/100\n",
            "80/80 [==============================] - 0s 854us/step - loss: 0.5040 - accuracy: 0.7563\n",
            "Epoch 18/100\n",
            "80/80 [==============================] - 0s 861us/step - loss: 0.5028 - accuracy: 0.7600\n",
            "Epoch 19/100\n",
            "80/80 [==============================] - 0s 870us/step - loss: 0.5015 - accuracy: 0.7650\n",
            "Epoch 20/100\n",
            "80/80 [==============================] - 0s 862us/step - loss: 0.5007 - accuracy: 0.7650\n",
            "Epoch 21/100\n",
            "80/80 [==============================] - 0s 839us/step - loss: 0.4998 - accuracy: 0.7650\n",
            "Epoch 22/100\n",
            "80/80 [==============================] - 0s 835us/step - loss: 0.4987 - accuracy: 0.7688\n",
            "Epoch 23/100\n",
            "80/80 [==============================] - 0s 998us/step - loss: 0.4977 - accuracy: 0.7713\n",
            "Epoch 24/100\n",
            "80/80 [==============================] - 0s 874us/step - loss: 0.4967 - accuracy: 0.7650\n",
            "Epoch 25/100\n",
            "80/80 [==============================] - 0s 874us/step - loss: 0.4962 - accuracy: 0.7688\n",
            "Epoch 26/100\n",
            "80/80 [==============================] - 0s 869us/step - loss: 0.4950 - accuracy: 0.7725\n",
            "Epoch 27/100\n",
            "80/80 [==============================] - 0s 925us/step - loss: 0.4944 - accuracy: 0.7713\n",
            "Epoch 28/100\n",
            "80/80 [==============================] - 0s 936us/step - loss: 0.4934 - accuracy: 0.7725\n",
            "Epoch 29/100\n",
            "80/80 [==============================] - 0s 864us/step - loss: 0.4929 - accuracy: 0.7738\n",
            "Epoch 30/100\n",
            "80/80 [==============================] - 0s 839us/step - loss: 0.4918 - accuracy: 0.7688\n",
            "Epoch 31/100\n",
            "80/80 [==============================] - 0s 939us/step - loss: 0.4911 - accuracy: 0.7700\n",
            "Epoch 32/100\n",
            "80/80 [==============================] - 0s 830us/step - loss: 0.4903 - accuracy: 0.7700\n",
            "Epoch 33/100\n",
            "80/80 [==============================] - 0s 875us/step - loss: 0.4900 - accuracy: 0.7738\n",
            "Epoch 34/100\n",
            "80/80 [==============================] - 0s 874us/step - loss: 0.4886 - accuracy: 0.7738\n",
            "Epoch 35/100\n",
            "80/80 [==============================] - 0s 910us/step - loss: 0.4882 - accuracy: 0.7675\n",
            "Epoch 36/100\n",
            "80/80 [==============================] - 0s 878us/step - loss: 0.4871 - accuracy: 0.7738\n",
            "Epoch 37/100\n",
            "80/80 [==============================] - 0s 965us/step - loss: 0.4867 - accuracy: 0.7738\n",
            "Epoch 38/100\n",
            "80/80 [==============================] - 0s 906us/step - loss: 0.4867 - accuracy: 0.7725\n",
            "Epoch 39/100\n",
            "80/80 [==============================] - 0s 889us/step - loss: 0.4859 - accuracy: 0.7713\n",
            "Epoch 40/100\n",
            "80/80 [==============================] - 0s 926us/step - loss: 0.4850 - accuracy: 0.7700\n",
            "Epoch 41/100\n",
            "80/80 [==============================] - 0s 1ms/step - loss: 0.4855 - accuracy: 0.7738\n",
            "Epoch 42/100\n",
            "80/80 [==============================] - 0s 909us/step - loss: 0.4844 - accuracy: 0.7763\n",
            "Epoch 43/100\n",
            "80/80 [==============================] - 0s 834us/step - loss: 0.4835 - accuracy: 0.7738\n",
            "Epoch 44/100\n",
            "80/80 [==============================] - 0s 869us/step - loss: 0.4835 - accuracy: 0.7763\n",
            "Epoch 45/100\n",
            "80/80 [==============================] - 0s 876us/step - loss: 0.4817 - accuracy: 0.7788\n",
            "Epoch 46/100\n",
            "80/80 [==============================] - 0s 884us/step - loss: 0.4815 - accuracy: 0.7750\n",
            "Epoch 47/100\n",
            "80/80 [==============================] - 0s 964us/step - loss: 0.4811 - accuracy: 0.7763\n",
            "Epoch 48/100\n",
            "80/80 [==============================] - 0s 838us/step - loss: 0.4808 - accuracy: 0.7713\n",
            "Epoch 49/100\n",
            "80/80 [==============================] - 0s 895us/step - loss: 0.4801 - accuracy: 0.7700\n",
            "Epoch 50/100\n",
            "80/80 [==============================] - 0s 876us/step - loss: 0.4797 - accuracy: 0.7725\n",
            "Epoch 51/100\n",
            "80/80 [==============================] - 0s 862us/step - loss: 0.4792 - accuracy: 0.7713\n",
            "Epoch 52/100\n",
            "80/80 [==============================] - 0s 866us/step - loss: 0.4787 - accuracy: 0.7775\n",
            "Epoch 53/100\n",
            "80/80 [==============================] - 0s 918us/step - loss: 0.4785 - accuracy: 0.7713\n",
            "Epoch 54/100\n",
            "80/80 [==============================] - 0s 955us/step - loss: 0.4784 - accuracy: 0.7788\n",
            "Epoch 55/100\n",
            "80/80 [==============================] - 0s 871us/step - loss: 0.4786 - accuracy: 0.7738\n",
            "Epoch 56/100\n",
            "80/80 [==============================] - 0s 873us/step - loss: 0.4774 - accuracy: 0.7750\n",
            "Epoch 57/100\n",
            "80/80 [==============================] - 0s 901us/step - loss: 0.4780 - accuracy: 0.7812\n",
            "Epoch 58/100\n",
            "80/80 [==============================] - 0s 889us/step - loss: 0.4776 - accuracy: 0.7837\n",
            "Epoch 59/100\n",
            "80/80 [==============================] - 0s 852us/step - loss: 0.4768 - accuracy: 0.7812\n",
            "Epoch 60/100\n",
            "80/80 [==============================] - 0s 874us/step - loss: 0.4763 - accuracy: 0.7788\n",
            "Epoch 61/100\n",
            "80/80 [==============================] - 0s 856us/step - loss: 0.4754 - accuracy: 0.7788\n",
            "Epoch 62/100\n",
            "80/80 [==============================] - 0s 845us/step - loss: 0.4755 - accuracy: 0.7800\n",
            "Epoch 63/100\n",
            "80/80 [==============================] - 0s 865us/step - loss: 0.4755 - accuracy: 0.7788\n",
            "Epoch 64/100\n",
            "80/80 [==============================] - 0s 905us/step - loss: 0.4753 - accuracy: 0.7812\n",
            "Epoch 65/100\n",
            "80/80 [==============================] - 0s 878us/step - loss: 0.4751 - accuracy: 0.7788\n",
            "Epoch 66/100\n",
            "80/80 [==============================] - 0s 838us/step - loss: 0.4749 - accuracy: 0.7812\n",
            "Epoch 67/100\n",
            "80/80 [==============================] - 0s 958us/step - loss: 0.4739 - accuracy: 0.7812\n",
            "Epoch 68/100\n",
            "80/80 [==============================] - 0s 914us/step - loss: 0.4745 - accuracy: 0.7763\n",
            "Epoch 69/100\n",
            "80/80 [==============================] - 0s 861us/step - loss: 0.4736 - accuracy: 0.7775\n",
            "Epoch 70/100\n",
            "80/80 [==============================] - 0s 865us/step - loss: 0.4731 - accuracy: 0.7800\n",
            "Epoch 71/100\n",
            "80/80 [==============================] - 0s 881us/step - loss: 0.4729 - accuracy: 0.7825\n",
            "Epoch 72/100\n",
            "80/80 [==============================] - 0s 1ms/step - loss: 0.4722 - accuracy: 0.7812\n",
            "Epoch 73/100\n",
            "80/80 [==============================] - 0s 860us/step - loss: 0.4719 - accuracy: 0.7812\n",
            "Epoch 74/100\n",
            "80/80 [==============================] - 0s 835us/step - loss: 0.4713 - accuracy: 0.7875\n",
            "Epoch 75/100\n",
            "80/80 [==============================] - 0s 854us/step - loss: 0.4711 - accuracy: 0.7837\n",
            "Epoch 76/100\n",
            "80/80 [==============================] - 0s 913us/step - loss: 0.4708 - accuracy: 0.7862\n",
            "Epoch 77/100\n",
            "80/80 [==============================] - 0s 868us/step - loss: 0.4710 - accuracy: 0.7825\n",
            "Epoch 78/100\n",
            "80/80 [==============================] - 0s 849us/step - loss: 0.4707 - accuracy: 0.7837\n",
            "Epoch 79/100\n",
            "80/80 [==============================] - 0s 894us/step - loss: 0.4700 - accuracy: 0.7887\n",
            "Epoch 80/100\n",
            "80/80 [==============================] - 0s 879us/step - loss: 0.4702 - accuracy: 0.7837\n",
            "Epoch 81/100\n",
            "80/80 [==============================] - 0s 1ms/step - loss: 0.4697 - accuracy: 0.7875\n",
            "Epoch 82/100\n",
            "80/80 [==============================] - 0s 848us/step - loss: 0.4696 - accuracy: 0.7825\n",
            "Epoch 83/100\n",
            "80/80 [==============================] - 0s 903us/step - loss: 0.4693 - accuracy: 0.7875\n",
            "Epoch 84/100\n",
            "80/80 [==============================] - 0s 886us/step - loss: 0.4692 - accuracy: 0.7837\n",
            "Epoch 85/100\n",
            "80/80 [==============================] - 0s 854us/step - loss: 0.4680 - accuracy: 0.7900\n",
            "Epoch 86/100\n",
            "80/80 [==============================] - 0s 880us/step - loss: 0.4692 - accuracy: 0.7825\n",
            "Epoch 87/100\n",
            "80/80 [==============================] - 0s 887us/step - loss: 0.4682 - accuracy: 0.7862\n",
            "Epoch 88/100\n",
            "80/80 [==============================] - 0s 933us/step - loss: 0.4679 - accuracy: 0.7875\n",
            "Epoch 89/100\n",
            "80/80 [==============================] - 0s 871us/step - loss: 0.4679 - accuracy: 0.7875\n",
            "Epoch 90/100\n",
            "80/80 [==============================] - 0s 850us/step - loss: 0.4674 - accuracy: 0.7887\n",
            "Epoch 91/100\n",
            "80/80 [==============================] - 0s 885us/step - loss: 0.4673 - accuracy: 0.7875\n",
            "Epoch 92/100\n",
            "80/80 [==============================] - 0s 917us/step - loss: 0.4670 - accuracy: 0.7900\n",
            "Epoch 93/100\n",
            "80/80 [==============================] - 0s 859us/step - loss: 0.4675 - accuracy: 0.7850\n",
            "Epoch 94/100\n",
            "80/80 [==============================] - 0s 966us/step - loss: 0.4664 - accuracy: 0.7900\n",
            "Epoch 95/100\n",
            "80/80 [==============================] - 0s 881us/step - loss: 0.4670 - accuracy: 0.7912\n",
            "Epoch 96/100\n",
            "80/80 [==============================] - 0s 864us/step - loss: 0.4665 - accuracy: 0.7825\n",
            "Epoch 97/100\n",
            "80/80 [==============================] - 0s 858us/step - loss: 0.4665 - accuracy: 0.7850\n",
            "Epoch 98/100\n",
            "80/80 [==============================] - 0s 826us/step - loss: 0.4663 - accuracy: 0.7875\n",
            "Epoch 99/100\n",
            "80/80 [==============================] - 0s 882us/step - loss: 0.4653 - accuracy: 0.7912\n",
            "Epoch 100/100\n",
            "80/80 [==============================] - 0s 955us/step - loss: 0.4661 - accuracy: 0.7887\n"
          ],
          "name": "stdout"
        },
        {
          "output_type": "execute_result",
          "data": {
            "text/plain": [
              "<tensorflow.python.keras.callbacks.History at 0x7ffa99258b70>"
            ]
          },
          "metadata": {
            "tags": []
          },
          "execution_count": 14
        }
      ]
    },
    {
      "cell_type": "code",
      "metadata": {
        "id": "CeVPCDHUb6RA",
        "colab_type": "code",
        "colab": {
          "base_uri": "https://localhost:8080/",
          "height": 1000
        },
        "outputId": "ee3ca549-5f34-4ba0-f9fe-709e1ee7ecdd"
      },
      "source": [
        "y_pred = classifier.predict(X_test)\n",
        "y_pred = (y_pred > 0.5)\n",
        "y_pred"
      ],
      "execution_count": null,
      "outputs": [
        {
          "output_type": "execute_result",
          "data": {
            "text/plain": [
              "array([[False],\n",
              "       [ True],\n",
              "       [ True],\n",
              "       [ True],\n",
              "       [ True],\n",
              "       [ True],\n",
              "       [ True],\n",
              "       [ True],\n",
              "       [ True],\n",
              "       [False],\n",
              "       [False],\n",
              "       [False],\n",
              "       [ True],\n",
              "       [ True],\n",
              "       [False],\n",
              "       [ True],\n",
              "       [ True],\n",
              "       [ True],\n",
              "       [ True],\n",
              "       [ True],\n",
              "       [ True],\n",
              "       [ True],\n",
              "       [False],\n",
              "       [ True],\n",
              "       [ True],\n",
              "       [ True],\n",
              "       [ True],\n",
              "       [ True],\n",
              "       [ True],\n",
              "       [False],\n",
              "       [ True],\n",
              "       [ True],\n",
              "       [ True],\n",
              "       [ True],\n",
              "       [ True],\n",
              "       [ True],\n",
              "       [ True],\n",
              "       [ True],\n",
              "       [ True],\n",
              "       [ True],\n",
              "       [ True],\n",
              "       [False],\n",
              "       [ True],\n",
              "       [ True],\n",
              "       [ True],\n",
              "       [ True],\n",
              "       [False],\n",
              "       [False],\n",
              "       [ True],\n",
              "       [ True],\n",
              "       [ True],\n",
              "       [False],\n",
              "       [ True],\n",
              "       [ True],\n",
              "       [False],\n",
              "       [ True],\n",
              "       [False],\n",
              "       [ True],\n",
              "       [ True],\n",
              "       [ True],\n",
              "       [False],\n",
              "       [ True],\n",
              "       [False],\n",
              "       [ True],\n",
              "       [ True],\n",
              "       [ True],\n",
              "       [ True],\n",
              "       [ True],\n",
              "       [False],\n",
              "       [ True],\n",
              "       [ True],\n",
              "       [ True],\n",
              "       [False],\n",
              "       [ True],\n",
              "       [ True],\n",
              "       [ True],\n",
              "       [ True],\n",
              "       [ True],\n",
              "       [ True],\n",
              "       [ True],\n",
              "       [ True],\n",
              "       [ True],\n",
              "       [ True],\n",
              "       [ True],\n",
              "       [ True],\n",
              "       [ True],\n",
              "       [ True],\n",
              "       [ True],\n",
              "       [ True],\n",
              "       [ True],\n",
              "       [False],\n",
              "       [ True],\n",
              "       [ True],\n",
              "       [ True],\n",
              "       [ True],\n",
              "       [ True],\n",
              "       [False],\n",
              "       [ True],\n",
              "       [ True],\n",
              "       [ True],\n",
              "       [False],\n",
              "       [ True],\n",
              "       [ True],\n",
              "       [ True],\n",
              "       [ True],\n",
              "       [ True],\n",
              "       [False],\n",
              "       [False],\n",
              "       [False],\n",
              "       [ True],\n",
              "       [False],\n",
              "       [False],\n",
              "       [ True],\n",
              "       [ True],\n",
              "       [ True],\n",
              "       [ True],\n",
              "       [ True],\n",
              "       [ True],\n",
              "       [ True],\n",
              "       [ True],\n",
              "       [ True],\n",
              "       [ True],\n",
              "       [ True],\n",
              "       [False],\n",
              "       [ True],\n",
              "       [ True],\n",
              "       [ True],\n",
              "       [ True],\n",
              "       [ True],\n",
              "       [ True],\n",
              "       [ True],\n",
              "       [ True],\n",
              "       [False],\n",
              "       [ True],\n",
              "       [ True],\n",
              "       [ True],\n",
              "       [ True],\n",
              "       [ True],\n",
              "       [ True],\n",
              "       [False],\n",
              "       [False],\n",
              "       [False],\n",
              "       [ True],\n",
              "       [ True],\n",
              "       [ True],\n",
              "       [ True],\n",
              "       [ True],\n",
              "       [ True],\n",
              "       [ True],\n",
              "       [ True],\n",
              "       [ True],\n",
              "       [ True],\n",
              "       [ True],\n",
              "       [ True],\n",
              "       [ True],\n",
              "       [ True],\n",
              "       [ True],\n",
              "       [ True],\n",
              "       [ True],\n",
              "       [ True],\n",
              "       [ True],\n",
              "       [False],\n",
              "       [ True],\n",
              "       [ True],\n",
              "       [False],\n",
              "       [False],\n",
              "       [False],\n",
              "       [ True],\n",
              "       [ True],\n",
              "       [ True],\n",
              "       [False],\n",
              "       [ True],\n",
              "       [False],\n",
              "       [ True],\n",
              "       [ True],\n",
              "       [ True],\n",
              "       [False],\n",
              "       [ True],\n",
              "       [False],\n",
              "       [ True],\n",
              "       [ True],\n",
              "       [False],\n",
              "       [ True],\n",
              "       [False],\n",
              "       [ True],\n",
              "       [ True],\n",
              "       [ True],\n",
              "       [ True],\n",
              "       [ True],\n",
              "       [ True],\n",
              "       [ True],\n",
              "       [False],\n",
              "       [ True],\n",
              "       [ True],\n",
              "       [ True],\n",
              "       [ True],\n",
              "       [ True],\n",
              "       [ True],\n",
              "       [ True],\n",
              "       [ True]])"
            ]
          },
          "metadata": {
            "tags": []
          },
          "execution_count": 15
        }
      ]
    },
    {
      "cell_type": "code",
      "metadata": {
        "id": "89qKm_OHb6RH",
        "colab_type": "code",
        "colab": {
          "base_uri": "https://localhost:8080/",
          "height": 51
        },
        "outputId": "f12a17bb-8e10-46b5-951e-59e0a025af01"
      },
      "source": [
        "#matriz de confusão\n",
        "cm = confusion_matrix(y_test, y_pred)\n",
        "cm"
      ],
      "execution_count": null,
      "outputs": [
        {
          "output_type": "execute_result",
          "data": {
            "text/plain": [
              "array([[ 21,  37],\n",
              "       [ 20, 122]])"
            ]
          },
          "metadata": {
            "tags": []
          },
          "execution_count": 16
        }
      ]
    },
    {
      "cell_type": "code",
      "metadata": {
        "id": "co_rE30vb6RW",
        "colab_type": "code",
        "colab": {}
      },
      "source": [
        ""
      ],
      "execution_count": null,
      "outputs": []
    }
  ]
}